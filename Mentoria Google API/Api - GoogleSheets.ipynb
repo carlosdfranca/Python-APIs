{
 "cells": [
  {
   "cell_type": "markdown",
   "id": "d4311271",
   "metadata": {},
   "source": [
    "## Testando Conexão com o Sheets"
   ]
  },
  {
   "cell_type": "code",
   "execution_count": 3,
   "id": "46349f88",
   "metadata": {},
   "outputs": [
    {
     "name": "stdout",
     "output_type": "stream",
     "text": [
      "Conexão Bem sucedida\n"
     ]
    }
   ],
   "source": [
    "from __future__ import print_function\n",
    "import os.path\n",
    "from googleapiclient.discovery import build\n",
    "from google_auth_oauthlib.flow import InstalledAppFlow\n",
    "from google.auth.transport.requests import Request\n",
    "from google.oauth2.credentials import Credentials\n",
    "\n",
    "# If modifying these scopes, delete the file token.json.\n",
    "# modificar tirando o .readonly do final\n",
    "SCOPES = ['https://www.googleapis.com/auth/spreadsheets']\n",
    "\n",
    "# The ID and range of a sample spreadsheet.\n",
    "# escolher a planilha que quer conectar e um range só para conferir se conectou\n",
    "SAMPLE_SPREADSHEET_ID = '1Hc0KoNF7GmKOdCoZS-xii9vt1bCBc9IxTGBo1-z9edI'\n",
    "SAMPLE_RANGE_NAME = 'Página1!A1:D9'\n",
    "\n",
    "\n",
    "\"\"\"Shows basic usage of the Sheets API.\n",
    "Prints values from a sample spreadsheet.\n",
    "\"\"\"\n",
    "creds = None\n",
    "# The file token.json stores the user's access and refresh tokens, and is\n",
    "# created automatically when the authorization flow completes for the first\n",
    "# time.\n",
    "if os.path.exists('token.json'):\n",
    "    creds = Credentials.from_authorized_user_file('token.json', SCOPES)\n",
    "# If there are no (valid) credentials available, let the user log in.\n",
    "if not creds or not creds.valid:\n",
    "    if creds and creds.expired and creds.refresh_token:\n",
    "        creds.refresh(Request())\n",
    "    else:\n",
    "        flow = InstalledAppFlow.from_client_secrets_file(\n",
    "            'credentials_2.json', SCOPES)\n",
    "        creds = flow.run_local_server(port=0)\n",
    "    # Save the credentials for the next run\n",
    "    with open('token.json', 'w') as token:\n",
    "        token.write(creds.to_json())\n",
    "\n",
    "service = build('sheets', 'v4', credentials=creds)\n",
    "\n",
    "# Call the Sheets API\n",
    "sheet = service.spreadsheets()\n",
    "result = sheet.values().get(spreadsheetId=SAMPLE_SPREADSHEET_ID,\n",
    "                            range=SAMPLE_RANGE_NAME).execute()\n",
    "values = result.get('values', [])\n",
    "\n",
    "if not values:\n",
    "    print('No data found.')\n",
    "else:\n",
    "    print(\"Conexão Bem sucedida\")"
   ]
  },
  {
   "cell_type": "markdown",
   "id": "cb14925d",
   "metadata": {},
   "source": [
    "### A partir daqui, vamos brincar com as planilas"
   ]
  },
  {
   "cell_type": "code",
   "execution_count": 28,
   "id": "42577700",
   "metadata": {},
   "outputs": [
    {
     "name": "stdout",
     "output_type": "stream",
     "text": [
      "['Lira', 'Outra coisa do lado']\n",
      "['Brabo']\n",
      "['Voando']\n",
      "['nas API']\n",
      "['do Google Sheets']\n"
     ]
    }
   ],
   "source": [
    "#Lendo Dados da Planilha\n",
    "sheet = service.spreadsheets()\n",
    "result = sheet.values().get(spreadsheetId=SAMPLE_SPREADSHEET_ID,\n",
    "                            range=SAMPLE_RANGE_NAME).execute()\n",
    "values = result.get('values', [])\n",
    "for linha in values:\n",
    "    print(linha)"
   ]
  },
  {
   "cell_type": "code",
   "execution_count": 25,
   "id": "4b297757",
   "metadata": {},
   "outputs": [
    {
     "name": "stdout",
     "output_type": "stream",
     "text": [
      "1 cells updated.\n"
     ]
    }
   ],
   "source": [
    "#Inserindo valores numa planilha expecífica\n",
    "values = [\n",
    "    [\n",
    "        'Faturamento: R$1.000'\n",
    "    ]\n",
    "]\n",
    "body = {\n",
    "    'values': values\n",
    "}\n",
    "result = service.spreadsheets().values().update(\n",
    "    spreadsheetId=\"1Wo2Dy6mz9Vyy5I_ITQxTCjL7dln5qyMr3o-xcxkEu_0\", \n",
    "    range='Página3!A1',\n",
    "    valueInputOption='USER_ENTERED', body=body).execute()\n",
    "print('{0} cells updated.'.format(result.get('updatedCells')))"
   ]
  },
  {
   "cell_type": "code",
   "execution_count": 17,
   "id": "26c3e1ab",
   "metadata": {},
   "outputs": [
    {
     "name": "stdout",
     "output_type": "stream",
     "text": [
      "None cells updated.\n"
     ]
    }
   ],
   "source": [
    "#Adincionar um valor no final da tabela\n",
    "values = [\n",
    "    [\n",
    "        'Dudu', 'dudu@gmail.com', 'Sem saldo'\n",
    "    ],\n",
    "]\n",
    "body = {\n",
    "    'values': values\n",
    "}\n",
    "result = service.spreadsheets().values().append(\n",
    "    spreadsheetId = '1Hc0KoNF7GmKOdCoZS-xii9vt1bCBc9IxTGBo1-z9edI', \n",
    "    range = 'Página1!A1',\n",
    "    valueInputOption='USER_ENTERED', body=body).execute()\n",
    "print('{0} cells updated.'.format(result.get('updatedCells')))"
   ]
  },
  {
   "cell_type": "code",
   "execution_count": 23,
   "id": "569c0d9c",
   "metadata": {},
   "outputs": [],
   "source": [
    "#Funções\n",
    "\n",
    "def adicionar_valor(mensagem, linha):\n",
    "        values = [\n",
    "            [\n",
    "                f'Mensagem \"{mensagem}\" enviada'\n",
    "            ],\n",
    "        ]\n",
    "        body = {\n",
    "            'values': values\n",
    "        }\n",
    "        result = service.spreadsheets().values().update(\n",
    "            spreadsheetId = '1Hc0KoNF7GmKOdCoZS-xii9vt1bCBc9IxTGBo1-z9edI', \n",
    "            range = f'Página1!D{linha+2}',\n",
    "            valueInputOption='USER_ENTERED', body=body).execute()\n",
    "        print('{0} cells updated.'.format(result.get('updatedCells')))"
   ]
  },
  {
   "cell_type": "code",
   "execution_count": 24,
   "id": "23f859be",
   "metadata": {},
   "outputs": [
    {
     "name": "stdout",
     "output_type": "stream",
     "text": [
      "Enviar mensagem \"Boleto\"\n",
      "1 cells updated.\n",
      "Enviar mensagem \"sem saldo\"\n",
      "1 cells updated.\n",
      "Enviar mensagem \"Comprou\"\n",
      "1 cells updated.\n",
      "Enviar mensagem \"sem saldo\"\n",
      "1 cells updated.\n",
      "Enviar mensagem \"Comprou\"\n",
      "1 cells updated.\n",
      "Enviar mensagem \"sem saldo\"\n",
      "1 cells updated.\n"
     ]
    }
   ],
   "source": [
    "#Mini-Desafio -> Recuperação de contas na Hashtag\n",
    "\n",
    "#Passo 1: Ler o intervalo de celulas\n",
    "result = sheet.values().get(spreadsheetId='1Hc0KoNF7GmKOdCoZS-xii9vt1bCBc9IxTGBo1-z9edI',\n",
    "                            range='Página1!A2:D9').execute()\n",
    "values = result.get('values', [])\n",
    "#for linha in values:\n",
    "#    print(linha)\n",
    "    \n",
    "#Passo2: Verificar se o statis está preechido\n",
    "for i, linha in enumerate(values):\n",
    "    #Passo3: Se o status não está preenchido, verificar o problema\n",
    "    if len(linha) < 4:\n",
    "        if linha[2] == 'Sem Saldo':\n",
    "            print('Enviar mensagem \"sem saldo\"')\n",
    "            mensagem = 'S/Saldo'\n",
    "            #Passo4: Enviar mensagen e registrar novo status.\n",
    "            adicionar_valor(mensagem, i)            \n",
    "        elif linha[2] == 'Comprou':\n",
    "            print('Enviar mensagem \"Comprou\"')\n",
    "            mensagem = 'Comprou'\n",
    "            adicionar_valor(mensagem, i)\n",
    "        elif linha[2] == 'Boleto Gerado':\n",
    "            print('Enviar mensagem \"Boleto\"')\n",
    "            mensagem = 'Boleto'\n",
    "            adicionar_valor(mensagem, i)\n",
    "        else:\n",
    "            break        \n"
   ]
  }
 ],
 "metadata": {
  "kernelspec": {
   "display_name": "Python 3 (ipykernel)",
   "language": "python",
   "name": "python3"
  },
  "language_info": {
   "codemirror_mode": {
    "name": "ipython",
    "version": 3
   },
   "file_extension": ".py",
   "mimetype": "text/x-python",
   "name": "python",
   "nbconvert_exporter": "python",
   "pygments_lexer": "ipython3",
   "version": "3.9.7"
  }
 },
 "nbformat": 4,
 "nbformat_minor": 5
}
